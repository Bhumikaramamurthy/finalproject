{
  "nbformat": 4,
  "nbformat_minor": 0,
  "metadata": {
    "colab": {
      "name": "bhumi.ipynb",
      "provenance": [],
      "authorship_tag": "ABX9TyMI5a6seIBMHPBN6BU9Whr2",
      "include_colab_link": true
    },
    "kernelspec": {
      "name": "python3",
      "display_name": "Python 3"
    },
    "language_info": {
      "name": "python"
    }
  },
  "cells": [
    {
      "cell_type": "markdown",
      "metadata": {
        "id": "view-in-github",
        "colab_type": "text"
      },
      "source": [
        "<a href=\"https://colab.research.google.com/github/Bhumikaramamurthy/finalproject/blob/main/bhumi.ipynb\" target=\"_parent\"><img src=\"https://colab.research.google.com/assets/colab-badge.svg\" alt=\"Open In Colab\"/></a>"
      ]
    },
    {
      "cell_type": "code",
      "metadata": {
        "colab": {
          "base_uri": "https://localhost:8080/"
        },
        "id": "I_dNowYC2--K",
        "outputId": "8a16f021-b656-4d41-a6e9-cd8a3549e448"
      },
      "source": [
        "x = int(input('Input- \\n°C -> '))\n",
        "i = (x * 9/5) + 32\n",
        "print('Output- \\n°F -> ',end='')\n",
        "print(int(i))"
      ],
      "execution_count": 4,
      "outputs": [
        {
          "output_type": "stream",
          "text": [
            "Input- \n",
            "°C -> 55\n",
            "Output- \n",
            "°F -> 131\n"
          ],
          "name": "stdout"
        }
      ]
    }
  ]
}